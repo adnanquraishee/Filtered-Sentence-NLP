{
  "nbformat": 4,
  "nbformat_minor": 0,
  "metadata": {
    "colab": {
      "provenance": []
    },
    "kernelspec": {
      "name": "python3",
      "display_name": "Python 3"
    },
    "language_info": {
      "name": "python"
    }
  },
  "cells": [
    {
      "cell_type": "code",
      "metadata": {
        "id": "NYvfTEBdHwa8"
      },
      "source": [
        "import nltk\n",
        "from nltk.stem import PorterStemmer\n",
        "from nltk.tokenize import RegexpTokenizer\n",
        "from nltk.tokenize import sent_tokenize\n",
        "from nltk.corpus import stopwords"
      ],
      "execution_count": null,
      "outputs": []
    },
    {
      "cell_type": "code",
      "metadata": {
        "colab": {
          "base_uri": "https://localhost:8080/"
        },
        "id": "tbD2c0h6Oqvw",
        "outputId": "689190b4-4198-4f66-edf1-720781c352ed"
      },
      "source": [
        "nltk.download(\"punkt\")"
      ],
      "execution_count": null,
      "outputs": [
        {
          "output_type": "stream",
          "name": "stdout",
          "text": [
            "[nltk_data] Downloading package punkt to /root/nltk_data...\n",
            "[nltk_data]   Unzipping tokenizers/punkt.zip.\n"
          ]
        },
        {
          "output_type": "execute_result",
          "data": {
            "text/plain": [
              "True"
            ]
          },
          "metadata": {},
          "execution_count": 10
        }
      ]
    },
    {
      "cell_type": "code",
      "metadata": {
        "colab": {
          "base_uri": "https://localhost:8080/"
        },
        "id": "yAT-NviIIKCi",
        "outputId": "aab62de5-bc36-49cd-c40b-31c8009e4d60"
      },
      "source": [
        "nltk.download('stopwords')"
      ],
      "execution_count": null,
      "outputs": [
        {
          "output_type": "stream",
          "name": "stdout",
          "text": [
            "[nltk_data] Downloading package stopwords to /root/nltk_data...\n",
            "[nltk_data]   Package stopwords is already up-to-date!\n"
          ]
        },
        {
          "output_type": "execute_result",
          "data": {
            "text/plain": [
              "True"
            ]
          },
          "metadata": {},
          "execution_count": 5
        }
      ]
    },
    {
      "cell_type": "code",
      "metadata": {
        "id": "mySd6lDzIL19"
      },
      "source": [
        "stop_words = list(stopwords.words('english'))"
      ],
      "execution_count": null,
      "outputs": []
    },
    {
      "cell_type": "code",
      "metadata": {
        "id": "xfLFdjucISIE"
      },
      "source": [
        "text = \"We live in a society where honor is a distant memory. We are living in a world where acceptance is out of culture. We fought, we hate, we betray, we love but we will unite some time and make it a better place. And we will make a memory to remember.\""
      ],
      "execution_count": null,
      "outputs": []
    },
    {
      "cell_type": "code",
      "metadata": {
        "id": "tSE5W09fOgmt"
      },
      "source": [
        "st = sent_tokenize(text)"
      ],
      "execution_count": null,
      "outputs": []
    },
    {
      "cell_type": "code",
      "metadata": {
        "colab": {
          "base_uri": "https://localhost:8080/"
        },
        "id": "5XVZXEBaOwU5",
        "outputId": "5e1f415d-57d0-4032-ad3c-240864dcb742"
      },
      "source": [
        "print(st)"
      ],
      "execution_count": null,
      "outputs": [
        {
          "output_type": "stream",
          "name": "stdout",
          "text": [
            "['We live in a society where honor is a distant memory.', 'We are living in a world where acceptance is out of culture.', 'We fought, we hate, we betray, we love but we will unite some time and make it a better place.', 'And we will make a memory to remember.']\n"
          ]
        }
      ]
    },
    {
      "cell_type": "code",
      "metadata": {
        "id": "26KA7SGsU5mV"
      },
      "source": [
        "rtk = RegexpTokenizer('\\s+', gaps = True)"
      ],
      "execution_count": null,
      "outputs": []
    },
    {
      "cell_type": "code",
      "metadata": {
        "id": "g8BP7Dk_QWng"
      },
      "source": [
        "for i in range(len(text)):\n",
        "    word_tokens = rtk.tokenize(text)\n",
        "    filtered_sentence = [w for w in word_tokens if not w.lower() in stop_words]\n",
        "    filtered_sentence = []"
      ],
      "execution_count": null,
      "outputs": []
    },
    {
      "cell_type": "code",
      "metadata": {
        "colab": {
          "base_uri": "https://localhost:8080/"
        },
        "id": "WkE7sBIDS95T",
        "outputId": "37cac26a-1cf7-4625-ba8b-e150db079a50"
      },
      "source": [
        "for w in word_tokens:\n",
        "    if w not in stop_words:\n",
        "        filtered_sentence.append(w)\n",
        "\n",
        "print(word_tokens)\n",
        "print(filtered_sentence)"
      ],
      "execution_count": null,
      "outputs": [
        {
          "output_type": "stream",
          "name": "stdout",
          "text": [
            "['We', 'live', 'in', 'a', 'society', 'where', 'honor', 'is', 'a', 'distant', 'memory.', 'We', 'are', 'living', 'in', 'a', 'world', 'where', 'acceptance', 'is', 'out', 'of', 'culture.', 'We', 'fought,', 'we', 'hate,', 'we', 'betray,', 'we', 'love', 'but', 'we', 'will', 'unite', 'some', 'time', 'and', 'make', 'it', 'a', 'better', 'place.', 'And', 'we', 'will', 'make', 'a', 'memory', 'to', 'remember.']\n",
            "['We', 'live', 'society', 'honor', 'distant', 'memory.', 'We', 'living', 'world', 'acceptance', 'culture.', 'We', 'fought,', 'hate,', 'betray,', 'love', 'unite', 'time', 'make', 'better', 'place.', 'And', 'make', 'memory', 'remember.']\n"
          ]
        }
      ]
    },
    {
      "cell_type": "code",
      "metadata": {
        "id": "ah6Bi-3EVwXb"
      },
      "source": [],
      "execution_count": null,
      "outputs": []
    }
  ]
}